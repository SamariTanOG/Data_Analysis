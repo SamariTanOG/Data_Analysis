{
 "cells": [
  {
   "cell_type": "code",
   "execution_count": 1,
   "id": "07e99c4f",
   "metadata": {},
   "outputs": [
    {
     "name": "stdout",
     "output_type": "stream",
     "text": [
      "CONNECTION DONE\n"
     ]
    }
   ],
   "source": [
    "import mysql.connector\n",
    "con = mysql.connector.connect(host='localhost', password='asterik!@#148596%%supreme', user='root',database = 'intel')\n",
    "if con.is_connected():\n",
    "    print('CONNECTION DONE')"
   ]
  },
  {
   "cell_type": "code",
   "execution_count": null,
   "id": "56620f05",
   "metadata": {},
   "outputs": [],
   "source": [
    "cur= con.cursor()\n",
    "query = \"select Speed , alert from cleaned_revised where speed>60\"\n",
    "cur.execute(query)\n",
    "result = cur.fetchall()\n"
   ]
  },
  {
   "cell_type": "code",
   "execution_count": null,
   "id": "a5a8c3db",
   "metadata": {},
   "outputs": [],
   "source": []
  },
  {
   "cell_type": "code",
   "execution_count": null,
   "id": "faece463",
   "metadata": {},
   "outputs": [],
   "source": [
    "column_names = [i[0] for i in cur.description]\n",
    "col = pd.DataFrame(result, columns=column_names)\n"
   ]
  },
  {
   "cell_type": "code",
   "execution_count": null,
   "id": "934f6a26",
   "metadata": {},
   "outputs": [],
   "source": [
    "col.head(10000)"
   ]
  },
  {
   "cell_type": "code",
   "execution_count": null,
   "id": "811e994d",
   "metadata": {},
   "outputs": [],
   "source": []
  },
  {
   "cell_type": "code",
   "execution_count": null,
   "id": "135ce9a3",
   "metadata": {},
   "outputs": [],
   "source": [
    "# accident prone\n",
    "query1 = \"select * from cleaned_revised where speed > 60 and (alert ='cas_fcw' or alert ='cas_pcw')\"\n",
    "cur.execute(query1)"
   ]
  },
  {
   "cell_type": "code",
   "execution_count": null,
   "id": "09175acb",
   "metadata": {},
   "outputs": [],
   "source": [
    "columns = [i[0] for i in cur.description]\n",
    "data = cur.fetchall()\n",
    "col = pd.DataFrame(data, columns=columns)"
   ]
  },
  {
   "cell_type": "code",
   "execution_count": null,
   "id": "d08eb179",
   "metadata": {},
   "outputs": [],
   "source": [
    "col.head(100)"
   ]
  },
  {
   "cell_type": "code",
   "execution_count": null,
   "id": "d28ec9c6",
   "metadata": {},
   "outputs": [],
   "source": []
  },
  {
   "cell_type": "code",
   "execution_count": null,
   "id": "342eb99b",
   "metadata": {},
   "outputs": [],
   "source": [
    "csv_filename = 'output.csv'  \n",
    "col.to_csv(csv_filename, index=False)"
   ]
  },
  {
   "cell_type": "code",
   "execution_count": null,
   "id": "3f7510cd",
   "metadata": {},
   "outputs": [],
   "source": [
    "#vehicle separation\n",
    "query2=\"select * from cleaned_revised where vehicle=3143\"\n",
    "cur.execute(query2)\n"
   ]
  },
  {
   "cell_type": "code",
   "execution_count": null,
   "id": "30eac91c",
   "metadata": {},
   "outputs": [],
   "source": [
    "column = [i[0] for i in cur.description]\n",
    "data = cur.fetchall()\n",
    "cols = pd.DataFrame(data, columns=column)"
   ]
  },
  {
   "cell_type": "code",
   "execution_count": null,
   "id": "83ba1809",
   "metadata": {},
   "outputs": [],
   "source": [
    "col.head(10000)\n"
   ]
  },
  {
   "cell_type": "code",
   "execution_count": null,
   "id": "14d642ce",
   "metadata": {},
   "outputs": [],
   "source": [
    "csv_filename = 'vehicle_3143.csv'\n",
    "cols.to_csv(csv_filename, index= False)"
   ]
  },
  {
   "cell_type": "code",
   "execution_count": null,
   "id": "33f8ce9c",
   "metadata": {},
   "outputs": [],
   "source": []
  },
  {
   "cell_type": "code",
   "execution_count": null,
   "id": "6a5e9b0c",
   "metadata": {},
   "outputs": [],
   "source": [
    "#Precautionary \n",
    "query3 = \"select * from cleaned_revised where Speed>55 and (alert='cas_fcw' or alert ='cas_ldw')\"\n",
    "cur.execute(query3) "
   ]
  },
  {
   "cell_type": "code",
   "execution_count": null,
   "id": "4a22d57f",
   "metadata": {},
   "outputs": [],
   "source": [
    "column = [i[0] for i in cur.description]\n",
    "data = cur.fetchall()\n",
    "cols = pd.DataFrame(data, columns=column)"
   ]
  },
  {
   "cell_type": "code",
   "execution_count": null,
   "id": "b55d496d",
   "metadata": {},
   "outputs": [],
   "source": [
    "csv_filename = 'precaution.csv'\n",
    "cols.to_csv(csv_filename, index= False)"
   ]
  },
  {
   "cell_type": "code",
   "execution_count": null,
   "id": "26aff077",
   "metadata": {},
   "outputs": [],
   "source": []
  },
  {
   "cell_type": "code",
   "execution_count": null,
   "id": "6e8ab0e4",
   "metadata": {},
   "outputs": [],
   "source": []
  },
  {
   "cell_type": "code",
   "execution_count": null,
   "id": "11e3ceba",
   "metadata": {},
   "outputs": [],
   "source": []
  },
  {
   "cell_type": "code",
   "execution_count": null,
   "id": "9c1b885d",
   "metadata": {},
   "outputs": [],
   "source": [
    "d3 = pd.read_csv(\"C:/Users/arpit/Downloads/vehicle_3143.csv\")"
   ]
  },
  {
   "cell_type": "code",
   "execution_count": null,
   "id": "5d630079",
   "metadata": {},
   "outputs": [],
   "source": [
    "query3 = \"select distinct(Dates) from cleaned_revised where Vehicle = 3143\"\n",
    "cur.execute(query3)"
   ]
  },
  {
   "cell_type": "code",
   "execution_count": null,
   "id": "7775cbe2",
   "metadata": {},
   "outputs": [],
   "source": [
    "column = [i[0] for i in cur.description]\n",
    "data = cur.fetchall()\n",
    "cols = pd.DataFrame(data, columns=column)"
   ]
  },
  {
   "cell_type": "code",
   "execution_count": null,
   "id": "a8a2b196",
   "metadata": {},
   "outputs": [],
   "source": [
    "cols.head(100)"
   ]
  },
  {
   "cell_type": "code",
   "execution_count": null,
   "id": "26ff73bf",
   "metadata": {},
   "outputs": [],
   "source": [
    "cur= con.cursor()\n",
    "query = \"\"\n",
    "cur.execute(query)\n",
    "result = cur.fetchall()\n"
   ]
  },
  {
   "cell_type": "code",
   "execution_count": null,
   "id": "542f297c",
   "metadata": {},
   "outputs": [],
   "source": []
  },
  {
   "cell_type": "code",
   "execution_count": null,
   "id": "16d57a37",
   "metadata": {},
   "outputs": [],
   "source": []
  },
  {
   "cell_type": "code",
   "execution_count": null,
   "id": "10c2ffd6",
   "metadata": {},
   "outputs": [],
   "source": []
  },
  {
   "cell_type": "code",
   "execution_count": null,
   "id": "610dba85",
   "metadata": {},
   "outputs": [],
   "source": []
  },
  {
   "cell_type": "code",
   "execution_count": null,
   "id": "e54ae9a5",
   "metadata": {},
   "outputs": [],
   "source": []
  },
  {
   "cell_type": "code",
   "execution_count": null,
   "id": "bc8e529e",
   "metadata": {},
   "outputs": [],
   "source": []
  },
  {
   "cell_type": "code",
   "execution_count": null,
   "id": "54416d7e",
   "metadata": {},
   "outputs": [],
   "source": []
  },
  {
   "cell_type": "code",
   "execution_count": null,
   "id": "e291073d",
   "metadata": {},
   "outputs": [],
   "source": []
  },
  {
   "cell_type": "code",
   "execution_count": null,
   "id": "03ea999d",
   "metadata": {},
   "outputs": [],
   "source": []
  },
  {
   "cell_type": "code",
   "execution_count": null,
   "id": "638782cd",
   "metadata": {},
   "outputs": [],
   "source": []
  },
  {
   "cell_type": "code",
   "execution_count": null,
   "id": "534f0b34",
   "metadata": {},
   "outputs": [],
   "source": []
  },
  {
   "cell_type": "code",
   "execution_count": null,
   "id": "ee92b8d4",
   "metadata": {},
   "outputs": [],
   "source": []
  },
  {
   "cell_type": "code",
   "execution_count": null,
   "id": "81e47e4b",
   "metadata": {},
   "outputs": [],
   "source": []
  },
  {
   "cell_type": "code",
   "execution_count": null,
   "id": "ccb622a1",
   "metadata": {},
   "outputs": [],
   "source": []
  },
  {
   "cell_type": "code",
   "execution_count": 2,
   "id": "98ebb7a0",
   "metadata": {},
   "outputs": [],
   "source": [
    "import pandas as pd"
   ]
  },
  {
   "cell_type": "code",
   "execution_count": 3,
   "id": "e893fed2",
   "metadata": {},
   "outputs": [],
   "source": [
    "cur= con.cursor()\n",
    "\n",
    "query = \"select count(alert), Dates from intel.v1995 group by Dates\"\n",
    "\n",
    "cur.execute(query)\n",
    "result = cur.fetchall()"
   ]
  },
  {
   "cell_type": "code",
   "execution_count": 4,
   "id": "686d12e6",
   "metadata": {},
   "outputs": [
    {
     "data": {
      "text/html": [
       "<div>\n",
       "<style scoped>\n",
       "    .dataframe tbody tr th:only-of-type {\n",
       "        vertical-align: middle;\n",
       "    }\n",
       "\n",
       "    .dataframe tbody tr th {\n",
       "        vertical-align: top;\n",
       "    }\n",
       "\n",
       "    .dataframe thead th {\n",
       "        text-align: right;\n",
       "    }\n",
       "</style>\n",
       "<table border=\"1\" class=\"dataframe\">\n",
       "  <thead>\n",
       "    <tr style=\"text-align: right;\">\n",
       "      <th></th>\n",
       "      <th>count(alert)</th>\n",
       "      <th>Dates</th>\n",
       "    </tr>\n",
       "  </thead>\n",
       "  <tbody>\n",
       "    <tr>\n",
       "      <th>0</th>\n",
       "      <td>5</td>\n",
       "      <td>01-06-2022</td>\n",
       "    </tr>\n",
       "    <tr>\n",
       "      <th>1</th>\n",
       "      <td>4</td>\n",
       "      <td>08-06-2022</td>\n",
       "    </tr>\n",
       "    <tr>\n",
       "      <th>2</th>\n",
       "      <td>9</td>\n",
       "      <td>09-06-2022</td>\n",
       "    </tr>\n",
       "  </tbody>\n",
       "</table>\n",
       "</div>"
      ],
      "text/plain": [
       "   count(alert)       Dates\n",
       "0             5  01-06-2022\n",
       "1             4  08-06-2022\n",
       "2             9  09-06-2022"
      ]
     },
     "execution_count": 4,
     "metadata": {},
     "output_type": "execute_result"
    }
   ],
   "source": [
    "column_names = [i[0] for i in cur.description]\n",
    "col = pd.DataFrame(result, columns=column_names)\n",
    "col.head(100)\n"
   ]
  },
  {
   "cell_type": "code",
   "execution_count": 6,
   "id": "8a8dd3ca",
   "metadata": {},
   "outputs": [],
   "source": [
    "csv_filename = 'rash_1995.csv'\n",
    "col.to_csv(csv_filename, index= False)"
   ]
  },
  {
   "cell_type": "code",
   "execution_count": null,
   "id": "c4ac951d",
   "metadata": {},
   "outputs": [],
   "source": []
  },
  {
   "cell_type": "code",
   "execution_count": null,
   "id": "31074912",
   "metadata": {},
   "outputs": [],
   "source": []
  },
  {
   "cell_type": "code",
   "execution_count": null,
   "id": "26eeb444",
   "metadata": {},
   "outputs": [],
   "source": []
  },
  {
   "cell_type": "code",
   "execution_count": null,
   "id": "a1e72f1c",
   "metadata": {},
   "outputs": [],
   "source": []
  },
  {
   "cell_type": "code",
   "execution_count": null,
   "id": "6d5d1e6b",
   "metadata": {},
   "outputs": [],
   "source": []
  },
  {
   "cell_type": "code",
   "execution_count": null,
   "id": "aefd2e41",
   "metadata": {},
   "outputs": [],
   "source": []
  },
  {
   "cell_type": "code",
   "execution_count": null,
   "id": "f5c7db38",
   "metadata": {},
   "outputs": [],
   "source": []
  },
  {
   "cell_type": "code",
   "execution_count": null,
   "id": "75f7b166",
   "metadata": {},
   "outputs": [],
   "source": []
  }
 ],
 "metadata": {
  "kernelspec": {
   "display_name": "Python 3 (ipykernel)",
   "language": "python",
   "name": "python3"
  },
  "language_info": {
   "codemirror_mode": {
    "name": "ipython",
    "version": 3
   },
   "file_extension": ".py",
   "mimetype": "text/x-python",
   "name": "python",
   "nbconvert_exporter": "python",
   "pygments_lexer": "ipython3",
   "version": "3.10.12"
  }
 },
 "nbformat": 4,
 "nbformat_minor": 5
}
